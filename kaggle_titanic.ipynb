{
 "cells": [
  {
   "cell_type": "markdown",
   "metadata": {},
   "source": [
    "# Titanic: Machine Learning from Disaster"
   ]
  },
  {
   "cell_type": "markdown",
   "metadata": {},
   "source": [
    "This notebook is about the [Titanic Challenge](https://www.kaggle.com/c/titanic)"
   ]
  },
  {
   "cell_type": "markdown",
   "metadata": {},
   "source": [
    "### Preps"
   ]
  },
  {
   "cell_type": "code",
   "execution_count": 11,
   "metadata": {},
   "outputs": [],
   "source": [
    "# imports\n",
    "import pandas as pd\n",
    "import numpy as np\n",
    "import random\n",
    "import datetime\n",
    "import matplotlib.pyplot as plt\n",
    "import statsmodels.api as sm\n",
    "%matplotlib inline"
   ]
  },
  {
   "cell_type": "code",
   "execution_count": 2,
   "metadata": {},
   "outputs": [],
   "source": [
    "# functions I'll be using\n",
    "\n",
    "def turn_factors_2_columns(df, target_col):\n",
    "    \"transforms one column of categorical data in several other columns with dummy values\"\n",
    "    if target_col not in df.columns:\n",
    "        print('{} not found in data'.format(target_col))\n",
    "        return df\n",
    "    # saving observed values possibilities\n",
    "    possibilities = list(set([x if not pd.isnull(x)  else 'unkn' for x in df[target_col].values]))\n",
    "    # creating dummies columns\n",
    "    cat_df = pd.get_dummies(df[target_col], prefix=target_col)\n",
    "    if sum(cat_df.apply('sum', axis=1).values) < cat_df.shape[0]:\n",
    "        cat_df['_'.join([target_col,'unkn'])] = cat_df.apply(lambda x: abs(sum(x)-1), axis=1).values\n",
    "    df2 = df.join(cat_df).copy()\n",
    "    df2.drop(target_col, axis=1, inplace=True)\n",
    "    # verifying if there is any missing possibility\n",
    "    global CAT_VARS_GLOBAL\n",
    "    if target_col in CAT_VARS_GLOBAL.keys():\n",
    "        # printing if there is unconsistencies (var present in test data and not in train)\n",
    "        for x in possibilities:\n",
    "            if x not in CAT_VARS_GLOBAL[target_col]:\n",
    "                print('found new value in this set of data: {}'.format(str(x)))\n",
    "        # adding values to global archive - to use next time\n",
    "        CAT_VARS_GLOBAL[target_col] = list(set(CAT_VARS_GLOBAL[target_col] + possibilities))\n",
    "        # adding missing columns if it's the case\n",
    "        for it in CAT_VARS_GLOBAL[target_col]:\n",
    "            if '_'.join([target_col,it]) not in df2.columns:\n",
    "                df2['_'.join([target_col,it])] = 0\n",
    "    else:\n",
    "        # adding values to global archive - to use next time\n",
    "        CAT_VARS_GLOBAL[target_col] = possibilities\n",
    "    return df2\n",
    "\n",
    "\n",
    "def substrings_in_string(big_string, substrings):\n",
    "    \"finds the first substring in the big string\"\n",
    "    for substring in substrings:\n",
    "        if str.find(big_string, substring) != -1:\n",
    "            return substring\n",
    "    return 'unkn'\n",
    "\n",
    "\n",
    "def replace_titles(x):\n",
    "    \"groups several titles to the more usual ones\"\n",
    "    title=x['Title']\n",
    "    if title in ['Don', 'Major', 'Capt', 'Jonkheer', 'Rev', 'Col']:\n",
    "        return 'Mr'\n",
    "    elif title in ['Countess', 'Mme']:\n",
    "        return 'Mrs'\n",
    "    elif title in ['Mlle', 'Ms']:\n",
    "        return 'Miss'\n",
    "    elif title =='Dr':\n",
    "        if x['Sex']=='Male':\n",
    "            return 'Mr'\n",
    "        else:\n",
    "            return 'Mrs'\n",
    "    else:\n",
    "        return title\n",
    "\n",
    "\n",
    "def prepare_data(df):\n",
    "    \"creates new variables and transforms categorical data into numeric\"\n",
    "    df.index = df['PassengerId']\n",
    "    df.drop('PassengerId', axis=1, inplace=True)\n",
    "    # coudnt make an use of this column\n",
    "    df.drop('Ticket', axis=1, inplace=True)\n",
    "    # PCLASS : I believe this variable does not have a numerical meaning\n",
    "    replace_dict_pclass = {1:'fir', 2:'sec', 3:'thi'}\n",
    "    df['Pclass'] = df['Pclass'].replace(replace_dict_pclass)\n",
    "    df = turn_factors_2_columns(df=df, target_col='Pclass')\n",
    "    # TITLE\n",
    "    title_list = ['Mrs', 'Mr', 'Master', 'Miss', 'Major', 'Rev',\n",
    "                  'Dr', 'Ms', 'Mlle','Col', 'Capt', 'Mme', 'Countess',\n",
    "                  'Don', 'Jonkheer']\n",
    "    df['Title']=df['Name'].map(lambda x: substrings_in_string(x, title_list))\n",
    "    df.drop('Name', axis=1, inplace=True)\n",
    "    df['Title'] = df.apply(replace_titles, axis=1)\n",
    "    df = turn_factors_2_columns(df=df, target_col='Title')\n",
    "    # SEX\n",
    "    if 'Sex' in df.columns:\n",
    "        df = turn_factors_2_columns(df=df, target_col='Sex')\n",
    "    # since is binary we don't need two columns\n",
    "    df.drop('Sex_male', axis=1, inplace=True)\n",
    "    # turning cabin number into Deck\n",
    "    cabin_list = ['A', 'B', 'C', 'D', 'E', 'F', 'T', 'G','unkn']\n",
    "    df['Deck'] = df['Cabin'].map(lambda x: substrings_in_string(str(x), cabin_list))\n",
    "    df.drop('Cabin', axis=1, inplace=True)\n",
    "    df = turn_factors_2_columns(df=df, target_col='Deck')\n",
    "    # embarked\n",
    "    df = turn_factors_2_columns(df=df, target_col='Embarked')\n",
    "    # new random variable\n",
    "    df['Family_Size']=df['SibSp']+df['Parch']\n",
    "    return df\n",
    "\n",
    "\n",
    "def separate_xy(df, y_col):\n",
    "    \"transform dataframe into numpy arrays better suited to ML APIs\"\n",
    "    df_vars=df.columns.values.tolist()\n",
    "    y_var=[y_col]\n",
    "    X_vars=[i for i in df_vars if i not in y_var]\n",
    "    return (df[X_vars].values, df[y_var].values)\n",
    "\n",
    "\n",
    "def plot_model_eval(model_history, acc='acc', loss='loss'):\n",
    "    \"plot keras model accuracy and loss information\"\n",
    "    f, (ax1, ax2) = plt.subplots(2, 1, sharey=True, figsize=(12,7))\n",
    "    ax1.plot(model_history.history[acc])\n",
    "    ax1.plot(model_history.history['val_{}'.format(acc)])\n",
    "    # ax1.set_title('model accuracy')\n",
    "    ax1.set_ylabel('accuracy')\n",
    "    # ax1.set_xlabel('epoch')\n",
    "    ax1.legend(['train', 'test'], loc='lower right')\n",
    "    ax2.plot(model_history.history[loss])\n",
    "    ax2.plot(model_history.history['val_{}'.format(loss)])\n",
    "    # ax2.set_title('model loss')\n",
    "    ax2.set_ylabel('loss')\n",
    "    ax2.set_xlabel('epoch')\n",
    "    ax2.legend(['train', 'test'], loc='upper right')\n",
    "    plt.show()\n",
    "\n",
    "    "
   ]
  },
  {
   "cell_type": "markdown",
   "metadata": {},
   "source": [
    "### Loading Data"
   ]
  },
  {
   "cell_type": "code",
   "execution_count": 3,
   "metadata": {},
   "outputs": [],
   "source": [
    "# reading data\n",
    "CAT_VARS_GLOBAL = {}\n",
    "train_data_raw = pd.read_csv('data/kaggle_titanic_train.csv')\n",
    "test_data_raw = pd.read_csv('data/kaggle_titanic_test.csv')"
   ]
  },
  {
   "cell_type": "code",
   "execution_count": 4,
   "metadata": {},
   "outputs": [
    {
     "data": {
      "text/html": [
       "<div>\n",
       "<style scoped>\n",
       "    .dataframe tbody tr th:only-of-type {\n",
       "        vertical-align: middle;\n",
       "    }\n",
       "\n",
       "    .dataframe tbody tr th {\n",
       "        vertical-align: top;\n",
       "    }\n",
       "\n",
       "    .dataframe thead th {\n",
       "        text-align: right;\n",
       "    }\n",
       "</style>\n",
       "<table border=\"1\" class=\"dataframe\">\n",
       "  <thead>\n",
       "    <tr style=\"text-align: right;\">\n",
       "      <th></th>\n",
       "      <th>PassengerId</th>\n",
       "      <th>Survived</th>\n",
       "      <th>Pclass</th>\n",
       "      <th>Name</th>\n",
       "      <th>Sex</th>\n",
       "      <th>Age</th>\n",
       "      <th>SibSp</th>\n",
       "      <th>Parch</th>\n",
       "      <th>Ticket</th>\n",
       "      <th>Fare</th>\n",
       "      <th>Cabin</th>\n",
       "      <th>Embarked</th>\n",
       "    </tr>\n",
       "  </thead>\n",
       "  <tbody>\n",
       "    <tr>\n",
       "      <th>0</th>\n",
       "      <td>1</td>\n",
       "      <td>0</td>\n",
       "      <td>3</td>\n",
       "      <td>Braund, Mr. Owen Harris</td>\n",
       "      <td>male</td>\n",
       "      <td>22.0</td>\n",
       "      <td>1</td>\n",
       "      <td>0</td>\n",
       "      <td>A/5 21171</td>\n",
       "      <td>7.2500</td>\n",
       "      <td>NaN</td>\n",
       "      <td>S</td>\n",
       "    </tr>\n",
       "    <tr>\n",
       "      <th>1</th>\n",
       "      <td>2</td>\n",
       "      <td>1</td>\n",
       "      <td>1</td>\n",
       "      <td>Cumings, Mrs. John Bradley (Florence Briggs Th...</td>\n",
       "      <td>female</td>\n",
       "      <td>38.0</td>\n",
       "      <td>1</td>\n",
       "      <td>0</td>\n",
       "      <td>PC 17599</td>\n",
       "      <td>71.2833</td>\n",
       "      <td>C85</td>\n",
       "      <td>C</td>\n",
       "    </tr>\n",
       "    <tr>\n",
       "      <th>2</th>\n",
       "      <td>3</td>\n",
       "      <td>1</td>\n",
       "      <td>3</td>\n",
       "      <td>Heikkinen, Miss. Laina</td>\n",
       "      <td>female</td>\n",
       "      <td>26.0</td>\n",
       "      <td>0</td>\n",
       "      <td>0</td>\n",
       "      <td>STON/O2. 3101282</td>\n",
       "      <td>7.9250</td>\n",
       "      <td>NaN</td>\n",
       "      <td>S</td>\n",
       "    </tr>\n",
       "    <tr>\n",
       "      <th>3</th>\n",
       "      <td>4</td>\n",
       "      <td>1</td>\n",
       "      <td>1</td>\n",
       "      <td>Futrelle, Mrs. Jacques Heath (Lily May Peel)</td>\n",
       "      <td>female</td>\n",
       "      <td>35.0</td>\n",
       "      <td>1</td>\n",
       "      <td>0</td>\n",
       "      <td>113803</td>\n",
       "      <td>53.1000</td>\n",
       "      <td>C123</td>\n",
       "      <td>S</td>\n",
       "    </tr>\n",
       "    <tr>\n",
       "      <th>4</th>\n",
       "      <td>5</td>\n",
       "      <td>0</td>\n",
       "      <td>3</td>\n",
       "      <td>Allen, Mr. William Henry</td>\n",
       "      <td>male</td>\n",
       "      <td>35.0</td>\n",
       "      <td>0</td>\n",
       "      <td>0</td>\n",
       "      <td>373450</td>\n",
       "      <td>8.0500</td>\n",
       "      <td>NaN</td>\n",
       "      <td>S</td>\n",
       "    </tr>\n",
       "  </tbody>\n",
       "</table>\n",
       "</div>"
      ],
      "text/plain": [
       "   PassengerId  Survived  Pclass  \\\n",
       "0            1         0       3   \n",
       "1            2         1       1   \n",
       "2            3         1       3   \n",
       "3            4         1       1   \n",
       "4            5         0       3   \n",
       "\n",
       "                                                Name     Sex   Age  SibSp  \\\n",
       "0                            Braund, Mr. Owen Harris    male  22.0      1   \n",
       "1  Cumings, Mrs. John Bradley (Florence Briggs Th...  female  38.0      1   \n",
       "2                             Heikkinen, Miss. Laina  female  26.0      0   \n",
       "3       Futrelle, Mrs. Jacques Heath (Lily May Peel)  female  35.0      1   \n",
       "4                           Allen, Mr. William Henry    male  35.0      0   \n",
       "\n",
       "   Parch            Ticket     Fare Cabin Embarked  \n",
       "0      0         A/5 21171   7.2500   NaN        S  \n",
       "1      0          PC 17599  71.2833   C85        C  \n",
       "2      0  STON/O2. 3101282   7.9250   NaN        S  \n",
       "3      0            113803  53.1000  C123        S  \n",
       "4      0            373450   8.0500   NaN        S  "
      ]
     },
     "execution_count": 4,
     "metadata": {},
     "output_type": "execute_result"
    }
   ],
   "source": [
    "train_data_raw.head()"
   ]
  },
  {
   "cell_type": "markdown",
   "metadata": {},
   "source": [
    "There is some categorical data, and some new features we can extract from columns, so we just do that."
   ]
  },
  {
   "cell_type": "code",
   "execution_count": 5,
   "metadata": {},
   "outputs": [],
   "source": [
    "train_data = prepare_data(df=train_data_raw.copy())\n",
    "test_data = prepare_data(df=test_data_raw.copy())"
   ]
  },
  {
   "cell_type": "code",
   "execution_count": 6,
   "metadata": {},
   "outputs": [
    {
     "data": {
      "text/html": [
       "<div>\n",
       "<style scoped>\n",
       "    .dataframe tbody tr th:only-of-type {\n",
       "        vertical-align: middle;\n",
       "    }\n",
       "\n",
       "    .dataframe tbody tr th {\n",
       "        vertical-align: top;\n",
       "    }\n",
       "\n",
       "    .dataframe thead th {\n",
       "        text-align: right;\n",
       "    }\n",
       "</style>\n",
       "<table border=\"1\" class=\"dataframe\">\n",
       "  <thead>\n",
       "    <tr style=\"text-align: right;\">\n",
       "      <th></th>\n",
       "      <th>Survived</th>\n",
       "      <th>Age</th>\n",
       "      <th>SibSp</th>\n",
       "      <th>Parch</th>\n",
       "      <th>Fare</th>\n",
       "      <th>Pclass_fir</th>\n",
       "      <th>Pclass_sec</th>\n",
       "      <th>Pclass_thi</th>\n",
       "      <th>Title_Master</th>\n",
       "      <th>Title_Miss</th>\n",
       "      <th>...</th>\n",
       "      <th>Deck_E</th>\n",
       "      <th>Deck_F</th>\n",
       "      <th>Deck_G</th>\n",
       "      <th>Deck_T</th>\n",
       "      <th>Deck_unkn</th>\n",
       "      <th>Embarked_C</th>\n",
       "      <th>Embarked_Q</th>\n",
       "      <th>Embarked_S</th>\n",
       "      <th>Embarked_unkn</th>\n",
       "      <th>Family_Size</th>\n",
       "    </tr>\n",
       "    <tr>\n",
       "      <th>PassengerId</th>\n",
       "      <th></th>\n",
       "      <th></th>\n",
       "      <th></th>\n",
       "      <th></th>\n",
       "      <th></th>\n",
       "      <th></th>\n",
       "      <th></th>\n",
       "      <th></th>\n",
       "      <th></th>\n",
       "      <th></th>\n",
       "      <th></th>\n",
       "      <th></th>\n",
       "      <th></th>\n",
       "      <th></th>\n",
       "      <th></th>\n",
       "      <th></th>\n",
       "      <th></th>\n",
       "      <th></th>\n",
       "      <th></th>\n",
       "      <th></th>\n",
       "      <th></th>\n",
       "    </tr>\n",
       "  </thead>\n",
       "  <tbody>\n",
       "    <tr>\n",
       "      <th>1</th>\n",
       "      <td>0</td>\n",
       "      <td>22.0</td>\n",
       "      <td>1</td>\n",
       "      <td>0</td>\n",
       "      <td>7.2500</td>\n",
       "      <td>0</td>\n",
       "      <td>0</td>\n",
       "      <td>1</td>\n",
       "      <td>0</td>\n",
       "      <td>0</td>\n",
       "      <td>...</td>\n",
       "      <td>0</td>\n",
       "      <td>0</td>\n",
       "      <td>0</td>\n",
       "      <td>0</td>\n",
       "      <td>1</td>\n",
       "      <td>0</td>\n",
       "      <td>0</td>\n",
       "      <td>1</td>\n",
       "      <td>0</td>\n",
       "      <td>1</td>\n",
       "    </tr>\n",
       "    <tr>\n",
       "      <th>2</th>\n",
       "      <td>1</td>\n",
       "      <td>38.0</td>\n",
       "      <td>1</td>\n",
       "      <td>0</td>\n",
       "      <td>71.2833</td>\n",
       "      <td>1</td>\n",
       "      <td>0</td>\n",
       "      <td>0</td>\n",
       "      <td>0</td>\n",
       "      <td>0</td>\n",
       "      <td>...</td>\n",
       "      <td>0</td>\n",
       "      <td>0</td>\n",
       "      <td>0</td>\n",
       "      <td>0</td>\n",
       "      <td>0</td>\n",
       "      <td>1</td>\n",
       "      <td>0</td>\n",
       "      <td>0</td>\n",
       "      <td>0</td>\n",
       "      <td>1</td>\n",
       "    </tr>\n",
       "    <tr>\n",
       "      <th>3</th>\n",
       "      <td>1</td>\n",
       "      <td>26.0</td>\n",
       "      <td>0</td>\n",
       "      <td>0</td>\n",
       "      <td>7.9250</td>\n",
       "      <td>0</td>\n",
       "      <td>0</td>\n",
       "      <td>1</td>\n",
       "      <td>0</td>\n",
       "      <td>1</td>\n",
       "      <td>...</td>\n",
       "      <td>0</td>\n",
       "      <td>0</td>\n",
       "      <td>0</td>\n",
       "      <td>0</td>\n",
       "      <td>1</td>\n",
       "      <td>0</td>\n",
       "      <td>0</td>\n",
       "      <td>1</td>\n",
       "      <td>0</td>\n",
       "      <td>0</td>\n",
       "    </tr>\n",
       "    <tr>\n",
       "      <th>4</th>\n",
       "      <td>1</td>\n",
       "      <td>35.0</td>\n",
       "      <td>1</td>\n",
       "      <td>0</td>\n",
       "      <td>53.1000</td>\n",
       "      <td>1</td>\n",
       "      <td>0</td>\n",
       "      <td>0</td>\n",
       "      <td>0</td>\n",
       "      <td>0</td>\n",
       "      <td>...</td>\n",
       "      <td>0</td>\n",
       "      <td>0</td>\n",
       "      <td>0</td>\n",
       "      <td>0</td>\n",
       "      <td>0</td>\n",
       "      <td>0</td>\n",
       "      <td>0</td>\n",
       "      <td>1</td>\n",
       "      <td>0</td>\n",
       "      <td>1</td>\n",
       "    </tr>\n",
       "    <tr>\n",
       "      <th>5</th>\n",
       "      <td>0</td>\n",
       "      <td>35.0</td>\n",
       "      <td>0</td>\n",
       "      <td>0</td>\n",
       "      <td>8.0500</td>\n",
       "      <td>0</td>\n",
       "      <td>0</td>\n",
       "      <td>1</td>\n",
       "      <td>0</td>\n",
       "      <td>0</td>\n",
       "      <td>...</td>\n",
       "      <td>0</td>\n",
       "      <td>0</td>\n",
       "      <td>0</td>\n",
       "      <td>0</td>\n",
       "      <td>1</td>\n",
       "      <td>0</td>\n",
       "      <td>0</td>\n",
       "      <td>1</td>\n",
       "      <td>0</td>\n",
       "      <td>0</td>\n",
       "    </tr>\n",
       "  </tbody>\n",
       "</table>\n",
       "<p>5 rows × 27 columns</p>\n",
       "</div>"
      ],
      "text/plain": [
       "             Survived   Age  SibSp  Parch     Fare  Pclass_fir  Pclass_sec  \\\n",
       "PassengerId                                                                  \n",
       "1                   0  22.0      1      0   7.2500           0           0   \n",
       "2                   1  38.0      1      0  71.2833           1           0   \n",
       "3                   1  26.0      0      0   7.9250           0           0   \n",
       "4                   1  35.0      1      0  53.1000           1           0   \n",
       "5                   0  35.0      0      0   8.0500           0           0   \n",
       "\n",
       "             Pclass_thi  Title_Master  Title_Miss     ...       Deck_E  \\\n",
       "PassengerId                                           ...                \n",
       "1                     1             0           0     ...            0   \n",
       "2                     0             0           0     ...            0   \n",
       "3                     1             0           1     ...            0   \n",
       "4                     0             0           0     ...            0   \n",
       "5                     1             0           0     ...            0   \n",
       "\n",
       "             Deck_F  Deck_G  Deck_T  Deck_unkn  Embarked_C  Embarked_Q  \\\n",
       "PassengerId                                                              \n",
       "1                 0       0       0          1           0           0   \n",
       "2                 0       0       0          0           1           0   \n",
       "3                 0       0       0          1           0           0   \n",
       "4                 0       0       0          0           0           0   \n",
       "5                 0       0       0          1           0           0   \n",
       "\n",
       "             Embarked_S  Embarked_unkn  Family_Size  \n",
       "PassengerId                                          \n",
       "1                     1              0            1  \n",
       "2                     0              0            1  \n",
       "3                     1              0            0  \n",
       "4                     1              0            1  \n",
       "5                     1              0            0  \n",
       "\n",
       "[5 rows x 27 columns]"
      ]
     },
     "execution_count": 6,
     "metadata": {},
     "output_type": "execute_result"
    }
   ],
   "source": [
    "train_data.head()"
   ]
  },
  {
   "cell_type": "markdown",
   "metadata": {},
   "source": [
    "Next we look for missing data, a common problem"
   ]
  },
  {
   "cell_type": "code",
   "execution_count": 7,
   "metadata": {},
   "outputs": [
    {
     "name": "stdout",
     "output_type": "stream",
     "text": [
      "train dataset\n",
      "    Age : 177 null values\n",
      "test dataset\n",
      "    Age : 86 null values\n",
      "    Fare : 1 null values\n"
     ]
    }
   ],
   "source": [
    "# verifying for missing data\n",
    "print('train dataset')\n",
    "for col in train_data.columns:\n",
    "    num_null_values = sum(pd.isnull(train_data[col].values))\n",
    "    if num_null_values > 0:\n",
    "        print('    {} : {} null values'.format(col, str(num_null_values)))\n",
    "print('test dataset')\n",
    "for col in test_data.columns:\n",
    "    num_null_values = sum(pd.isnull(test_data[col].values))\n",
    "    if num_null_values > 0:\n",
    "        print('    {} : {} null values'.format(col, str(num_null_values)))"
   ]
  },
  {
   "cell_type": "markdown",
   "metadata": {},
   "source": [
    "This data as it is cannot be used by several models, we can remove the rows with missing data or fill the voids with a value (using a simple method like the average or predicting the values with other models). In this case we just model a simple general linear model (gaussian) to predict the missing data on the \"Age\" column."
   ]
  },
  {
   "cell_type": "code",
   "execution_count": 12,
   "metadata": {},
   "outputs": [],
   "source": [
    "# age variable\n",
    "all_data = pd.concat([train_data, test_data], sort=False)\n",
    "age_data = all_data.drop('Survived', axis=1).dropna().copy()\n",
    "age_data_topred = all_data.loc[pd.isnull(all_data['Age'])].drop(labels=['Survived', 'Age'], axis=1).copy()\n",
    "(x_age, y_age) = separate_xy(age_data, y_col='Age')\n",
    "glm_model = sm.GLM(y_age, x_age).fit()\n",
    "predicted_ages = glm_model.predict(age_data_topred.values)\n",
    "predicted_ages_df = pd.DataFrame({'Age':predicted_ages}, index=age_data_topred.index)\n",
    "train_data.update(predicted_ages_df)\n",
    "test_data.update(predicted_ages_df)"
   ]
  },
  {
   "cell_type": "code",
   "execution_count": 13,
   "metadata": {},
   "outputs": [],
   "source": [
    "test_data.loc[pd.isnull(test_data['Fare']), 'Fare'] = np.nanmean(all_data['Fare'].values)"
   ]
  },
  {
   "cell_type": "markdown",
   "metadata": {},
   "source": [
    "### Predicting"
   ]
  },
  {
   "cell_type": "code",
   "execution_count": 14,
   "metadata": {
    "scrolled": true
   },
   "outputs": [
    {
     "name": "stdout",
     "output_type": "stream",
     "text": [
      "Warning: Maximum number of iterations has been exceeded.\n",
      "         Current function value: 0.398618\n",
      "         Iterations: 600\n"
     ]
    },
    {
     "name": "stderr",
     "output_type": "stream",
     "text": [
      "/home/tsk/.virtualenvs/jupyter/lib/python3.6/site-packages/statsmodels/base/model.py:508: ConvergenceWarning: Maximum Likelihood optimization failed to converge. Check mle_retvals\n",
      "  \"Check mle_retvals\", ConvergenceWarning)\n"
     ]
    },
    {
     "data": {
      "text/plain": [
       "0.8417508417508418"
      ]
     },
     "execution_count": 14,
     "metadata": {},
     "output_type": "execute_result"
    }
   ],
   "source": [
    "# logistic regression\n",
    "[xs, ys] = separate_xy(train_data, y_col='Survived')\n",
    "glm_model = sm.Logit(endog=ys, exog=xs).fit(maxiter=600, method='newton')\n",
    "survived_hat = glm_model.predict(xs)\n",
    "not_correct = sum(abs((survived_hat > 0.5).astype(int) - ys.reshape(len(ys))))\n",
    "accuracy = (len(ys)-not_correct)/len(ys)\n",
    "accuracy"
   ]
  },
  {
   "cell_type": "code",
   "execution_count": 15,
   "metadata": {},
   "outputs": [
    {
     "data": {
      "text/plain": [
       "0.8496071829405163"
      ]
     },
     "execution_count": 15,
     "metadata": {},
     "output_type": "execute_result"
    }
   ],
   "source": [
    "# decision tree\n",
    "from sklearn.tree import DecisionTreeClassifier\n",
    "decision_tree = DecisionTreeClassifier(min_samples_split=20, max_depth=5)\n",
    "decision_tree.fit(xs, ys)\n",
    "Y_pred2 = decision_tree.predict(xs)\n",
    "decision_tree.score(xs, ys)"
   ]
  },
  {
   "cell_type": "code",
   "execution_count": 16,
   "metadata": {},
   "outputs": [
    {
     "name": "stderr",
     "output_type": "stream",
     "text": [
      "Using TensorFlow backend.\n"
     ]
    },
    {
     "name": "stdout",
     "output_type": "stream",
     "text": [
      "\n",
      "loss:  0.32690240034685125\n",
      "metric:  0.8675645337629265\n"
     ]
    }
   ],
   "source": [
    "# using tensorflow with keras\n",
    "\n",
    "[xs, ys] = separate_xy(train_data, y_col='Survived')\n",
    "\n",
    "import keras\n",
    "from keras.models import Sequential\n",
    "from keras.layers import Dense\n",
    "import matplotlib.pyplot as plt\n",
    "\n",
    "model1 = Sequential()\n",
    "model1.add(Dense(units=52, activation='sigmoid', input_dim=xs[0].size))\n",
    "model1.add(Dense(units=26, activation='sigmoid'))\n",
    "model1.add(Dense(units=13, activation='relu'))\n",
    "model1.add(Dense(units=1, activation='sigmoid'))\n",
    "\n",
    "model1.compile(loss='binary_crossentropy',\n",
    "              optimizer='adam',\n",
    "              metrics=['accuracy'])\n",
    "\n",
    "history = model1.fit(xs, ys, epochs=500, batch_size=240, validation_split=0.2, verbose=0)\n",
    "\n",
    "model1_eval = model1.evaluate(xs, ys, verbose=0)\n",
    "print()\n",
    "print('loss: ', model1_eval[0])\n",
    "print('metric: ', model1_eval[1])"
   ]
  },
  {
   "cell_type": "code",
   "execution_count": 17,
   "metadata": {},
   "outputs": [
    {
     "data": {
      "image/png": "[encoded data removed]",
      "text/plain": [
       "<Figure size 864x504 with 2 Axes>"
      ]
     },
     "metadata": {
      "needs_background": "light"
     },
     "output_type": "display_data"
    }
   ],
   "source": [
    "plot_model_eval(model_history=history)"
   ]
  },
  {
   "cell_type": "code",
   "execution_count": null,
   "metadata": {},
   "outputs": [],
   "source": [
    "# saving prediction in kaggle format\n",
    "competition_nickname = 'titanic'\n",
    "model_tryout_name = 'decisionTreeSimpleSklearn'\n",
    "test_labels = decision_tree.predict(test_data)\n",
    "\n",
    "pred2_list = test_labels.reshape(len(test_labels))\n",
    "predicted2 = [random.randint(0,1) if pd.isnull(x) else int(x > 0.5) for x in pred2_list]\n",
    "results_submission = pd.DataFrame({\n",
    "                                'PassengerId': test_data_raw['PassengerId'].values,\n",
    "                                'Survived': predicted2\n",
    "                            })\n",
    "now = datetime.datetime.now().strftime('%Y%m%d%H%M%S')\n",
    "results_submission.to_csv('submissions/kaggle_{}_submission_{}_{}.csv'.format(competition_nickname, model_tryout_name, now), index=False)"
   ]
  },
  {
   "cell_type": "code",
   "execution_count": null,
   "metadata": {},
   "outputs": [],
   "source": []
  },
  {
   "cell_type": "code",
   "execution_count": null,
   "metadata": {},
   "outputs": [],
   "source": []
  },
  {
   "cell_type": "code",
   "execution_count": null,
   "metadata": {},
   "outputs": [],
   "source": []
  },
  {
   "cell_type": "code",
   "execution_count": null,
   "metadata": {},
   "outputs": [],
   "source": []
  },
  {
   "cell_type": "code",
   "execution_count": null,
   "metadata": {},
   "outputs": [],
   "source": []
  },
  {
   "cell_type": "code",
   "execution_count": null,
   "metadata": {},
   "outputs": [],
   "source": []
  },
  {
   "cell_type": "code",
   "execution_count": null,
   "metadata": {},
   "outputs": [],
   "source": []
  },
  {
   "cell_type": "code",
   "execution_count": null,
   "metadata": {},
   "outputs": [],
   "source": []
  },
  {
   "cell_type": "code",
   "execution_count": null,
   "metadata": {},
   "outputs": [],
   "source": []
  },
  {
   "cell_type": "code",
   "execution_count": null,
   "metadata": {},
   "outputs": [],
   "source": []
  },
  {
   "cell_type": "code",
   "execution_count": null,
   "metadata": {},
   "outputs": [],
   "source": []
  },
  {
   "cell_type": "code",
   "execution_count": null,
   "metadata": {},
   "outputs": [],
   "source": []
  },
  {
   "cell_type": "code",
   "execution_count": null,
   "metadata": {},
   "outputs": [],
   "source": []
  },
  {
   "cell_type": "code",
   "execution_count": null,
   "metadata": {},
   "outputs": [],
   "source": []
  },
  {
   "cell_type": "code",
   "execution_count": null,
   "metadata": {},
   "outputs": [],
   "source": []
  },
  {
   "cell_type": "code",
   "execution_count": null,
   "metadata": {},
   "outputs": [],
   "source": []
  }
 ],
 "metadata": {
  "kernelspec": {
   "display_name": "Python 3",
   "language": "python",
   "name": "python3"
  },
  "language_info": {
   "codemirror_mode": {
    "name": "ipython",
    "version": 3
   },
   "file_extension": ".py",
   "mimetype": "text/x-python",
   "name": "python",
   "nbconvert_exporter": "python",
   "pygments_lexer": "ipython3",
   "version": "3.6.6"
  }
 },
 "nbformat": 4,
 "nbformat_minor": 2
}
