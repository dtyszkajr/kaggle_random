{
 "cells": [
  {
   "cell_type": "markdown",
   "metadata": {},
   "source": [
    "# Titanic: Machine Learning from Disaster"
   ]
  },
  {
   "cell_type": "markdown",
   "metadata": {},
   "source": [
    "This notebook is about the [Titanic Challenge](https://www.kaggle.com/c/titanic)"
   ]
  },
  {
   "cell_type": "markdown",
   "metadata": {},
   "source": [
    "### Preps"
   ]
  },
  {
   "cell_type": "code",
   "execution_count": 179,
   "metadata": {},
   "outputs": [],
   "source": [
    "# imports\n",
    "import pandas as pd\n",
    "import numpy as np\n",
    "import random\n",
    "import datetime\n",
    "import seaborn as sns\n",
    "import matplotlib.pyplot as plt\n",
    "import statsmodels.api as sm\n",
    "import re\n",
    "from sklearn import preprocessing\n",
    "from sklearn.model_selection import train_test_split\n",
    "%matplotlib inline"
   ]
  },
  {
   "cell_type": "code",
   "execution_count": 2,
   "metadata": {},
   "outputs": [],
   "source": [
    "# functions I'll be using\n",
    "\n",
    "def turn_factors_2_columns(df, target_col):\n",
    "    \"transforms one column of categorical data in several other columns with dummy values, better suited to regression\"\n",
    "    if target_col not in df.columns:\n",
    "        print('{} not found in data'.format(target_col))\n",
    "        return df\n",
    "    # saving observed values possibilities\n",
    "    possibilities = list(set([x if not pd.isnull(x)  else 'unkn' for x in df[target_col].values]))\n",
    "    # creating dummies columns\n",
    "    cat_df = pd.get_dummies(df[target_col], prefix=target_col)\n",
    "    if sum(cat_df.apply('sum', axis=1).values) < cat_df.shape[0]:\n",
    "        cat_df['_'.join([target_col,'unkn'])] = cat_df.apply(lambda x: abs(sum(x)-1), axis=1).values\n",
    "    df2 = df.join(cat_df).copy()\n",
    "    df2.drop(target_col, axis=1, inplace=True)\n",
    "    # verifying if there is any missing possibility\n",
    "    global CAT_VARS_GLOBAL\n",
    "    if target_col in CAT_VARS_GLOBAL.keys():\n",
    "        # printing if there is unconsistencies (var present in test data and not in train)\n",
    "        for x in possibilities:\n",
    "            if x not in CAT_VARS_GLOBAL[target_col]:\n",
    "                print('found new value in this set of data: {}'.format(str(x)))\n",
    "        # adding values to global archive - to use next time\n",
    "        CAT_VARS_GLOBAL[target_col] = list(set(CAT_VARS_GLOBAL[target_col] + possibilities))\n",
    "        # adding missing columns if it's the case\n",
    "        for it in CAT_VARS_GLOBAL[target_col]:\n",
    "            if '_'.join([target_col,it]) not in df2.columns:\n",
    "                df2['_'.join([target_col,it])] = 0\n",
    "    else:\n",
    "        # adding values to global archive - to use next time\n",
    "        CAT_VARS_GLOBAL[target_col] = possibilities\n",
    "    return df2\n",
    "\n",
    "\n",
    "def substrings_in_string(big_string, substrings):\n",
    "    \"finds the first substring in the big string\"\n",
    "    for substring in substrings:\n",
    "        if str.find(big_string, substring) != -1:\n",
    "            return substring\n",
    "    return 'unkn'\n",
    "\n",
    "\n",
    "def replace_titles(x):\n",
    "    \"groups several titles to the more usual ones\"\n",
    "    title=x['Title']\n",
    "    if title in ['Don', 'Major', 'Capt', 'Jonkheer', 'Rev', 'Col']:\n",
    "        return 'Mr'\n",
    "    elif title in ['Countess', 'Mme']:\n",
    "        return 'Mrs'\n",
    "    elif title in ['Mlle', 'Ms']:\n",
    "        return 'Miss'\n",
    "    elif title =='Dr':\n",
    "        if x['Sex']=='Male':\n",
    "            return 'Mr'\n",
    "        else:\n",
    "            return 'Mrs'\n",
    "    else:\n",
    "        return title\n",
    "\n",
    "\n",
    "# def prepare_data(df):\n",
    "#     \"creates new variables and transforms categorical data into numeric\"\n",
    "#     df.index = df['PassengerId']\n",
    "#     df.drop('PassengerId', axis=1, inplace=True)\n",
    "#     # coudnt make an use of this column\n",
    "#     df.drop('Ticket', axis=1, inplace=True)\n",
    "#     # PCLASS : I believe this variable does not have a numerical meaning\n",
    "#     replace_dict_pclass = {1:'fir', 2:'sec', 3:'thi'}\n",
    "#     df['Pclass'] = df['Pclass'].replace(replace_dict_pclass)\n",
    "#     df = turn_factors_2_columns(df=df, target_col='Pclass')\n",
    "#     # TITLE\n",
    "#     title_list = ['Mrs', 'Mr', 'Master', 'Miss', 'Major', 'Rev',\n",
    "#                   'Dr', 'Ms', 'Mlle','Col', 'Capt', 'Mme', 'Countess',\n",
    "#                   'Don', 'Jonkheer']\n",
    "#     df['Title']=df['Name'].map(lambda x: substrings_in_string(x, title_list))\n",
    "#     df.drop('Name', axis=1, inplace=True)\n",
    "#     df['Title'] = df.apply(replace_titles, axis=1)\n",
    "#     df = turn_factors_2_columns(df=df, target_col='Title')\n",
    "#     # SEX\n",
    "#     if 'Sex' in df.columns:\n",
    "#         df = turn_factors_2_columns(df=df, target_col='Sex')\n",
    "#     # since is binary we don't need two columns\n",
    "#     df.drop('Sex_male', axis=1, inplace=True)\n",
    "#     # turning cabin number into Deck\n",
    "#     cabin_list = ['A', 'B', 'C', 'D', 'E', 'F', 'T', 'G','unkn']\n",
    "#     df['Deck'] = df['Cabin'].map(lambda x: substrings_in_string(str(x), cabin_list))\n",
    "#     df.drop('Cabin', axis=1, inplace=True)\n",
    "#     df = turn_factors_2_columns(df=df, target_col='Deck')\n",
    "#     # embarked\n",
    "#     df = turn_factors_2_columns(df=df, target_col='Embarked')\n",
    "#     # new random variable\n",
    "#     df['Family_Size']=df['SibSp']+df['Parch']\n",
    "#     return df\n",
    "\n",
    "\n",
    "def separate_xy(df, y_col):\n",
    "    \"transform dataframe into numpy arrays better suited to ML APIs\"\n",
    "    df_vars=df.columns.values.tolist()\n",
    "    y_var=[y_col]\n",
    "    X_vars=[i for i in df_vars if i not in y_var]\n",
    "    return (df[X_vars].values, df[y_var].values)\n",
    "\n"
   ]
  },
  {
   "cell_type": "code",
   "execution_count": 46,
   "metadata": {},
   "outputs": [],
   "source": [
    "# reading data\n",
    "CAT_VARS_GLOBAL = {}\n",
    "train_data_raw = pd.read_csv('data/kaggle_titanic_train.csv')\n",
    "train_data_raw.index = train_data_raw['PassengerId']\n",
    "test_data_raw = pd.read_csv('data/kaggle_titanic_test.csv')\n",
    "test_data_raw.index = test_data_raw['PassengerId']"
   ]
  },
  {
   "cell_type": "code",
   "execution_count": 47,
   "metadata": {},
   "outputs": [
    {
     "data": {
      "text/html": [
       "<div>\n",
       "<style scoped>\n",
       "    .dataframe tbody tr th:only-of-type {\n",
       "        vertical-align: middle;\n",
       "    }\n",
       "\n",
       "    .dataframe tbody tr th {\n",
       "        vertical-align: top;\n",
       "    }\n",
       "\n",
       "    .dataframe thead th {\n",
       "        text-align: right;\n",
       "    }\n",
       "</style>\n",
       "<table border=\"1\" class=\"dataframe\">\n",
       "  <thead>\n",
       "    <tr style=\"text-align: right;\">\n",
       "      <th></th>\n",
       "      <th>PassengerId</th>\n",
       "      <th>Survived</th>\n",
       "      <th>Pclass</th>\n",
       "      <th>Name</th>\n",
       "      <th>Sex</th>\n",
       "      <th>Age</th>\n",
       "      <th>SibSp</th>\n",
       "      <th>Parch</th>\n",
       "      <th>Ticket</th>\n",
       "      <th>Fare</th>\n",
       "      <th>Cabin</th>\n",
       "      <th>Embarked</th>\n",
       "    </tr>\n",
       "    <tr>\n",
       "      <th>PassengerId</th>\n",
       "      <th></th>\n",
       "      <th></th>\n",
       "      <th></th>\n",
       "      <th></th>\n",
       "      <th></th>\n",
       "      <th></th>\n",
       "      <th></th>\n",
       "      <th></th>\n",
       "      <th></th>\n",
       "      <th></th>\n",
       "      <th></th>\n",
       "      <th></th>\n",
       "    </tr>\n",
       "  </thead>\n",
       "  <tbody>\n",
       "    <tr>\n",
       "      <th>1</th>\n",
       "      <td>1</td>\n",
       "      <td>0</td>\n",
       "      <td>3</td>\n",
       "      <td>Braund, Mr. Owen Harris</td>\n",
       "      <td>male</td>\n",
       "      <td>22.0</td>\n",
       "      <td>1</td>\n",
       "      <td>0</td>\n",
       "      <td>A/5 21171</td>\n",
       "      <td>7.2500</td>\n",
       "      <td>NaN</td>\n",
       "      <td>S</td>\n",
       "    </tr>\n",
       "    <tr>\n",
       "      <th>2</th>\n",
       "      <td>2</td>\n",
       "      <td>1</td>\n",
       "      <td>1</td>\n",
       "      <td>Cumings, Mrs. John Bradley (Florence Briggs Th...</td>\n",
       "      <td>female</td>\n",
       "      <td>38.0</td>\n",
       "      <td>1</td>\n",
       "      <td>0</td>\n",
       "      <td>PC 17599</td>\n",
       "      <td>71.2833</td>\n",
       "      <td>C85</td>\n",
       "      <td>C</td>\n",
       "    </tr>\n",
       "    <tr>\n",
       "      <th>3</th>\n",
       "      <td>3</td>\n",
       "      <td>1</td>\n",
       "      <td>3</td>\n",
       "      <td>Heikkinen, Miss. Laina</td>\n",
       "      <td>female</td>\n",
       "      <td>26.0</td>\n",
       "      <td>0</td>\n",
       "      <td>0</td>\n",
       "      <td>STON/O2. 3101282</td>\n",
       "      <td>7.9250</td>\n",
       "      <td>NaN</td>\n",
       "      <td>S</td>\n",
       "    </tr>\n",
       "    <tr>\n",
       "      <th>4</th>\n",
       "      <td>4</td>\n",
       "      <td>1</td>\n",
       "      <td>1</td>\n",
       "      <td>Futrelle, Mrs. Jacques Heath (Lily May Peel)</td>\n",
       "      <td>female</td>\n",
       "      <td>35.0</td>\n",
       "      <td>1</td>\n",
       "      <td>0</td>\n",
       "      <td>113803</td>\n",
       "      <td>53.1000</td>\n",
       "      <td>C123</td>\n",
       "      <td>S</td>\n",
       "    </tr>\n",
       "    <tr>\n",
       "      <th>5</th>\n",
       "      <td>5</td>\n",
       "      <td>0</td>\n",
       "      <td>3</td>\n",
       "      <td>Allen, Mr. William Henry</td>\n",
       "      <td>male</td>\n",
       "      <td>35.0</td>\n",
       "      <td>0</td>\n",
       "      <td>0</td>\n",
       "      <td>373450</td>\n",
       "      <td>8.0500</td>\n",
       "      <td>NaN</td>\n",
       "      <td>S</td>\n",
       "    </tr>\n",
       "  </tbody>\n",
       "</table>\n",
       "</div>"
      ],
      "text/plain": [
       "             PassengerId  Survived  Pclass  \\\n",
       "PassengerId                                  \n",
       "1                      1         0       3   \n",
       "2                      2         1       1   \n",
       "3                      3         1       3   \n",
       "4                      4         1       1   \n",
       "5                      5         0       3   \n",
       "\n",
       "                                                          Name     Sex   Age  \\\n",
       "PassengerId                                                                    \n",
       "1                                      Braund, Mr. Owen Harris    male  22.0   \n",
       "2            Cumings, Mrs. John Bradley (Florence Briggs Th...  female  38.0   \n",
       "3                                       Heikkinen, Miss. Laina  female  26.0   \n",
       "4                 Futrelle, Mrs. Jacques Heath (Lily May Peel)  female  35.0   \n",
       "5                                     Allen, Mr. William Henry    male  35.0   \n",
       "\n",
       "             SibSp  Parch            Ticket     Fare Cabin Embarked  \n",
       "PassengerId                                                          \n",
       "1                1      0         A/5 21171   7.2500   NaN        S  \n",
       "2                1      0          PC 17599  71.2833   C85        C  \n",
       "3                0      0  STON/O2. 3101282   7.9250   NaN        S  \n",
       "4                1      0            113803  53.1000  C123        S  \n",
       "5                0      0            373450   8.0500   NaN        S  "
      ]
     },
     "execution_count": 47,
     "metadata": {},
     "output_type": "execute_result"
    }
   ],
   "source": [
    "train_data_raw.head()"
   ]
  },
  {
   "cell_type": "markdown",
   "metadata": {},
   "source": [
    "### Exploring"
   ]
  },
  {
   "cell_type": "code",
   "execution_count": 48,
   "metadata": {},
   "outputs": [],
   "source": [
    "# creating dataframe for testing and exploring purposes\n",
    "dfx = train_data_raw.copy()"
   ]
  },
  {
   "cell_type": "code",
   "execution_count": 49,
   "metadata": {},
   "outputs": [
    {
     "data": {
      "image/png": "[encoded data removed]",
      "text/plain": [
       "<Figure size 432x288 with 1 Axes>"
      ]
     },
     "metadata": {
      "needs_background": "light"
     },
     "output_type": "display_data"
    }
   ],
   "source": [
    "# Survived -> 0 = No, 1 = Yes\n",
    "ax = sns.countplot(x='Survived', data=dfx)"
   ]
  },
  {
   "cell_type": "code",
   "execution_count": 50,
   "metadata": {},
   "outputs": [
    {
     "data": {
      "image/png": "[encoded data removed]",
      "text/plain": [
       "<Figure size 432x288 with 1 Axes>"
      ]
     },
     "metadata": {
      "needs_background": "light"
     },
     "output_type": "display_data"
    }
   ],
   "source": [
    "#  PClass - Ticket class -> 1 = 1st, 2 = 2nd, 3 = 3rd\n",
    "ax = sns.countplot(x='Pclass', hue='Survived', data=dfx)\n",
    "# are the classes distant by one unit of measurement?\n",
    "# todo: test categorical vs numerical"
   ]
  },
  {
   "cell_type": "code",
   "execution_count": 51,
   "metadata": {},
   "outputs": [
    {
     "data": {
      "image/png": "[encoded data removed]",
      "text/plain": [
       "<Figure size 432x288 with 1 Axes>"
      ]
     },
     "metadata": {
      "needs_background": "light"
     },
     "output_type": "display_data"
    }
   ],
   "source": [
    "#  Sex\n",
    "ax = sns.countplot(x='Sex', hue='Survived', data=dfx)\n",
    "# since there are just 2 classes, turn into numerical"
   ]
  },
  {
   "cell_type": "code",
   "execution_count": 52,
   "metadata": {},
   "outputs": [
    {
     "name": "stderr",
     "output_type": "stream",
     "text": [
      "/home/tsk/.virtualenvs/jupyter/lib/python3.6/site-packages/statsmodels/nonparametric/kde.py:448: RuntimeWarning: invalid value encountered in greater\n",
      "  X = X[np.logical_and(X > clip[0], X < clip[1])] # won't work for two columns.\n",
      "/home/tsk/.virtualenvs/jupyter/lib/python3.6/site-packages/statsmodels/nonparametric/kde.py:448: RuntimeWarning: invalid value encountered in less\n",
      "  X = X[np.logical_and(X > clip[0], X < clip[1])] # won't work for two columns.\n",
      "/home/tsk/.virtualenvs/jupyter/lib/python3.6/site-packages/scipy/stats/stats.py:1713: FutureWarning: Using a non-tuple sequence for multidimensional indexing is deprecated; use `arr[tuple(seq)]` instead of `arr[seq]`. In the future this will be interpreted as an array index, `arr[np.array(seq)]`, which will result either in an error or a different result.\n",
      "  return np.add.reduce(sorted[indexer] * weights, axis=axis) / sumval\n"
     ]
    },
    {
     "data": {
      "image/png": "[encoded data removed]",
      "text/plain": [
       "<Figure size 432x288 with 1 Axes>"
      ]
     },
     "metadata": {
      "needs_background": "light"
     },
     "output_type": "display_data"
    }
   ],
   "source": [
    "# Age - Age in years\n",
    "ax = sns.kdeplot(dfx.loc[dfx['Survived'] == 0,'Age'].values, label='0')\n",
    "ax = sns.kdeplot(dfx.loc[dfx['Survived'] == 1,'Age'].values, label='1')\n",
    "# only a few intervals help in discriminating, maybe turn into categories...\n",
    "# todo: test categories of age intervals"
   ]
  },
  {
   "cell_type": "code",
   "execution_count": 53,
   "metadata": {},
   "outputs": [
    {
     "data": {
      "image/png": "[encoded data removed]",
      "text/plain": [
       "<Figure size 432x288 with 1 Axes>"
      ]
     },
     "metadata": {
      "needs_background": "light"
     },
     "output_type": "display_data"
    }
   ],
   "source": [
    "# SibSp - # of siblings / spouses aboard the Titanic\n",
    "ax = sns.countplot(x='SibSp', hue='Survived', data=dfx)"
   ]
  },
  {
   "cell_type": "code",
   "execution_count": 54,
   "metadata": {},
   "outputs": [
    {
     "data": {
      "image/png": "[encoded data removed]",
      "text/plain": [
       "<Figure size 432x288 with 1 Axes>"
      ]
     },
     "metadata": {
      "needs_background": "light"
     },
     "output_type": "display_data"
    }
   ],
   "source": [
    "# Parch - # of parents / children aboard the Titanic\n",
    "ax = sns.countplot(x='Parch', hue='Survived', data=dfx)"
   ]
  },
  {
   "cell_type": "code",
   "execution_count": 55,
   "metadata": {},
   "outputs": [
    {
     "data": {
      "image/png": "[encoded data removed]",
      "text/plain": [
       "<Figure size 432x288 with 1 Axes>"
      ]
     },
     "metadata": {
      "needs_background": "light"
     },
     "output_type": "display_data"
    }
   ],
   "source": [
    "# Fsize - family size - *new\n",
    "dfx['Fsize'] = dfx['Parch'] + dfx['Pclass']\n",
    "ax = sns.countplot(x='Fsize', hue='Survived', data=dfx)"
   ]
  },
  {
   "cell_type": "code",
   "execution_count": 56,
   "metadata": {},
   "outputs": [
    {
     "data": {
      "image/png": "[encoded data removed]",
      "text/plain": [
       "<Figure size 432x288 with 1 Axes>"
      ]
     },
     "metadata": {
      "needs_background": "light"
     },
     "output_type": "display_data"
    }
   ],
   "source": [
    "# Fare - Passenger fare\n",
    "# Age\n",
    "ax = sns.kdeplot(dfx.loc[dfx['Survived'] == 0,'Fare'].values, label='0')\n",
    "ax = sns.kdeplot(dfx.loc[dfx['Survived'] == 1,'Fare'].values, label='1')"
   ]
  },
  {
   "cell_type": "code",
   "execution_count": 57,
   "metadata": {},
   "outputs": [
    {
     "data": {
      "image/png": "[encoded data removed]",
      "text/plain": [
       "<Figure size 432x288 with 1 Axes>"
      ]
     },
     "metadata": {
      "needs_background": "light"
     },
     "output_type": "display_data"
    }
   ],
   "source": [
    "# Embarked - Port of Embarkation -> C = Cherbourg, Q = Queenstown, S = Southampton\n",
    "ax = sns.countplot(x='Embarked', hue='Survived', data=dfx)"
   ]
  },
  {
   "cell_type": "code",
   "execution_count": 58,
   "metadata": {},
   "outputs": [
    {
     "data": {
      "image/png": "[encoded data removed]",
      "text/plain": [
       "<Figure size 432x288 with 1 Axes>"
      ]
     },
     "metadata": {
      "needs_background": "light"
     },
     "output_type": "display_data"
    }
   ],
   "source": [
    "# Title - *new\n",
    "title_list = ['Mrs', 'Mr', 'Master', 'Miss', 'Major', 'Rev', 'Dr',\n",
    "              'Ms', 'Mlle','Col', 'Capt', 'Mme', 'Countess','Don', 'Jonkheer']\n",
    "dfx['Title'] = dfx['Name'].map(lambda x: substrings_in_string(x, title_list))\n",
    "dfx['Title'] = dfx.apply(replace_titles, axis=1)\n",
    "ax = sns.countplot(x='Title', hue='Survived', data=dfx)"
   ]
  },
  {
   "cell_type": "code",
   "execution_count": 59,
   "metadata": {},
   "outputs": [
    {
     "data": {
      "image/png": "[encoded data removed]",
      "text/plain": [
       "<Figure size 432x288 with 1 Axes>"
      ]
     },
     "metadata": {
      "needs_background": "light"
     },
     "output_type": "display_data"
    }
   ],
   "source": [
    "# Deck - extracting info from Cabin variable - *new\n",
    "cabin_list = ['A', 'B', 'C', 'D', 'E', 'F', 'T', 'G','unkn']\n",
    "dfx['Deck'] = dfx['Cabin'].map(lambda x: substrings_in_string(str(x), cabin_list))\n",
    "ax = sns.countplot(x='Deck', hue='Survived', data=dfx)"
   ]
  },
  {
   "cell_type": "code",
   "execution_count": 60,
   "metadata": {},
   "outputs": [
    {
     "data": {
      "image/png": "[encoded data removed]",
      "text/plain": [
       "<Figure size 432x288 with 1 Axes>"
      ]
     },
     "metadata": {
      "needs_background": "light"
     },
     "output_type": "display_data"
    }
   ],
   "source": [
    "# Ticket info 2 - info extracted from Ticket column - *new\n",
    "dfx['Ticket2'] = dfx['Ticket'].map(lambda x: ''.join(re.findall('[a-zA-Z]+', x)))\n",
    "ticket2_values = ['PC','CA','A','STONO','SOTONOQ','WC', 'none']\n",
    "dfx['Ticket2'] = dfx['Ticket2'].map(lambda x: 'none' if x == '' else x)\n",
    "dfx['Ticket2'] = dfx['Ticket2'].map(lambda x: x if x in ticket2_values else 'other')\n",
    "ax = sns.countplot(x='Ticket2', hue='Survived', data=dfx)"
   ]
  },
  {
   "cell_type": "code",
   "execution_count": 61,
   "metadata": {},
   "outputs": [],
   "source": [
    "def prepare_data(dfx):\n",
    "    # family size\n",
    "    dfx['Fsize'] = dfx['Parch'] + dfx['Pclass']\n",
    "    # title\n",
    "    title_list = ['Mrs', 'Mr', 'Master', 'Miss', 'Major', 'Rev', 'Dr',\n",
    "                  'Ms', 'Mlle','Col', 'Capt', 'Mme', 'Countess','Don', 'Jonkheer']\n",
    "    dfx['Title'] = dfx['Name'].map(lambda x: substrings_in_string(x, title_list))\n",
    "    dfx['Title'] = dfx.apply(replace_titles, axis=1)\n",
    "    # deck\n",
    "    cabin_list = ['A', 'B', 'C', 'D', 'E', 'F', 'T', 'G','unkn']\n",
    "    dfx['Deck'] = dfx['Cabin'].map(lambda x: substrings_in_string(str(x), cabin_list))\n",
    "    # ticket\n",
    "    ticket2_list = ['PC','CA','A','STONO','SOTONOQ','WC', 'none']\n",
    "    dfx['Ticket2'] = dfx['Ticket'].map(lambda x: ''.join(re.findall('[a-zA-Z]+', x)))\n",
    "    dfx['Ticket2'] = dfx['Ticket2'].map(lambda x: 'none' if x == '' else x)\n",
    "    dfx['Ticket2'] = dfx['Ticket2'].map(lambda x: x if x in ticket2_list else 'other')\n",
    "    # keeping only needed data\n",
    "    valid_columns = ['Survived','Pclass','Sex','Age','SibSp','Parch','Fare','Embarked',\n",
    "                     'Fsize','Title','Deck','Ticket2']\n",
    "    return dfx[[x for x in dfx.columns if x in valid_columns]]"
   ]
  },
  {
   "cell_type": "code",
   "execution_count": 62,
   "metadata": {},
   "outputs": [],
   "source": [
    "train_data = prepare_data(dfx=train_data_raw.copy())\n",
    "test_data = prepare_data(dfx=test_data_raw.copy())"
   ]
  },
  {
   "cell_type": "code",
   "execution_count": 63,
   "metadata": {},
   "outputs": [
    {
     "data": {
      "text/plain": [
       "Survived      0\n",
       "Pclass        0\n",
       "Sex           0\n",
       "Age         177\n",
       "SibSp         0\n",
       "Parch         0\n",
       "Fare          0\n",
       "Embarked      2\n",
       "Fsize         0\n",
       "Title         0\n",
       "Deck          0\n",
       "Ticket2       0\n",
       "dtype: int64"
      ]
     },
     "execution_count": 63,
     "metadata": {},
     "output_type": "execute_result"
    }
   ],
   "source": [
    "# looking for missing data\n",
    "train_data.isna().sum()"
   ]
  },
  {
   "cell_type": "code",
   "execution_count": 64,
   "metadata": {},
   "outputs": [
    {
     "data": {
      "text/plain": [
       "Pclass       0\n",
       "Sex          0\n",
       "Age         86\n",
       "SibSp        0\n",
       "Parch        0\n",
       "Fare         1\n",
       "Embarked     0\n",
       "Fsize        0\n",
       "Title        0\n",
       "Deck         0\n",
       "Ticket2      0\n",
       "dtype: int64"
      ]
     },
     "execution_count": 64,
     "metadata": {},
     "output_type": "execute_result"
    }
   ],
   "source": [
    "test_data.isna().sum()"
   ]
  },
  {
   "cell_type": "code",
   "execution_count": 65,
   "metadata": {},
   "outputs": [],
   "source": [
    "# for the columns with a few null values, we can go simple\n",
    "train_data.loc[pd.isnull(train_data['Embarked']), 'Embarked'] = 'C'  # category that discriminates the less\n",
    "test_data.loc[pd.isnull(test_data['Fare']), 'Fare'] = np.nanmean(np.concatenate((train_data['Fare'].values, test_data['Fare'].values), axis=None))"
   ]
  },
  {
   "cell_type": "code",
   "execution_count": 70,
   "metadata": {},
   "outputs": [],
   "source": [
    "# age variable -> using regression\n",
    "age_data = pd.concat([train_data, test_data], sort=False).drop('Survived', axis=1)\n",
    "categorical_columns = ['Sex', 'Embarked', 'Title', 'Deck', 'Ticket2']\n",
    "for cat_col in categorical_columns:\n",
    "    age_data = turn_factors_2_columns(age_data, cat_col)  # cinse is a regression this is the MO\n",
    "age_data.drop('Sex_male', axis=1, inplace=True)  # binary variable -> no need for 2 columns\n",
    "age_data_train = age_data.loc[~pd.isnull(age_data['Age'])].copy()\n",
    "age_data_topred = age_data.loc[pd.isnull(age_data['Age'])].drop(labels=['Age'], axis=1).copy()\n",
    "(x_age, y_age) = separate_xy(age_data_train, y_col='Age')\n",
    "glm_model = sm.GLM(y_age, x_age).fit()\n",
    "predicted_ages = glm_model.predict(age_data_topred.values)\n",
    "predicted_ages_df = pd.DataFrame({'Age':predicted_ages}, index=age_data_topred.index)\n",
    "train_data.update(predicted_ages_df)\n",
    "test_data.update(predicted_ages_df)\n",
    "# a simpler and fatest way would be using the mean as bellow\n",
    "# but my tests indicates the regression version performed better\n",
    "# age_avg = np.nanmean(np.concatenate((train_data['Age'].values, test_data['Age'].values), axis=None))\n",
    "# train_data.loc[pd.isnull(train_data['Age']), 'Age'] = age_avg\n",
    "# test_data.loc[pd.isnull(test_data['Age']), 'Age'] = age_avg"
   ]
  },
  {
   "cell_type": "code",
   "execution_count": 71,
   "metadata": {},
   "outputs": [
    {
     "data": {
      "text/html": [
       "<div>\n",
       "<style scoped>\n",
       "    .dataframe tbody tr th:only-of-type {\n",
       "        vertical-align: middle;\n",
       "    }\n",
       "\n",
       "    .dataframe tbody tr th {\n",
       "        vertical-align: top;\n",
       "    }\n",
       "\n",
       "    .dataframe thead th {\n",
       "        text-align: right;\n",
       "    }\n",
       "</style>\n",
       "<table border=\"1\" class=\"dataframe\">\n",
       "  <thead>\n",
       "    <tr style=\"text-align: right;\">\n",
       "      <th></th>\n",
       "      <th>Survived</th>\n",
       "      <th>Pclass</th>\n",
       "      <th>Sex</th>\n",
       "      <th>Age</th>\n",
       "      <th>SibSp</th>\n",
       "      <th>Parch</th>\n",
       "      <th>Fare</th>\n",
       "      <th>Embarked</th>\n",
       "      <th>Fsize</th>\n",
       "      <th>Title</th>\n",
       "      <th>Deck</th>\n",
       "      <th>Ticket2</th>\n",
       "    </tr>\n",
       "    <tr>\n",
       "      <th>PassengerId</th>\n",
       "      <th></th>\n",
       "      <th></th>\n",
       "      <th></th>\n",
       "      <th></th>\n",
       "      <th></th>\n",
       "      <th></th>\n",
       "      <th></th>\n",
       "      <th></th>\n",
       "      <th></th>\n",
       "      <th></th>\n",
       "      <th></th>\n",
       "      <th></th>\n",
       "    </tr>\n",
       "  </thead>\n",
       "  <tbody>\n",
       "    <tr>\n",
       "      <th>1</th>\n",
       "      <td>0</td>\n",
       "      <td>3</td>\n",
       "      <td>male</td>\n",
       "      <td>22.0</td>\n",
       "      <td>1</td>\n",
       "      <td>0</td>\n",
       "      <td>7.2500</td>\n",
       "      <td>S</td>\n",
       "      <td>3</td>\n",
       "      <td>Mr</td>\n",
       "      <td>unkn</td>\n",
       "      <td>A</td>\n",
       "    </tr>\n",
       "    <tr>\n",
       "      <th>2</th>\n",
       "      <td>1</td>\n",
       "      <td>1</td>\n",
       "      <td>female</td>\n",
       "      <td>38.0</td>\n",
       "      <td>1</td>\n",
       "      <td>0</td>\n",
       "      <td>71.2833</td>\n",
       "      <td>C</td>\n",
       "      <td>1</td>\n",
       "      <td>Mrs</td>\n",
       "      <td>C</td>\n",
       "      <td>PC</td>\n",
       "    </tr>\n",
       "    <tr>\n",
       "      <th>3</th>\n",
       "      <td>1</td>\n",
       "      <td>3</td>\n",
       "      <td>female</td>\n",
       "      <td>26.0</td>\n",
       "      <td>0</td>\n",
       "      <td>0</td>\n",
       "      <td>7.9250</td>\n",
       "      <td>S</td>\n",
       "      <td>3</td>\n",
       "      <td>Miss</td>\n",
       "      <td>unkn</td>\n",
       "      <td>STONO</td>\n",
       "    </tr>\n",
       "    <tr>\n",
       "      <th>4</th>\n",
       "      <td>1</td>\n",
       "      <td>1</td>\n",
       "      <td>female</td>\n",
       "      <td>35.0</td>\n",
       "      <td>1</td>\n",
       "      <td>0</td>\n",
       "      <td>53.1000</td>\n",
       "      <td>S</td>\n",
       "      <td>1</td>\n",
       "      <td>Mrs</td>\n",
       "      <td>C</td>\n",
       "      <td>none</td>\n",
       "    </tr>\n",
       "    <tr>\n",
       "      <th>5</th>\n",
       "      <td>0</td>\n",
       "      <td>3</td>\n",
       "      <td>male</td>\n",
       "      <td>35.0</td>\n",
       "      <td>0</td>\n",
       "      <td>0</td>\n",
       "      <td>8.0500</td>\n",
       "      <td>S</td>\n",
       "      <td>3</td>\n",
       "      <td>Mr</td>\n",
       "      <td>unkn</td>\n",
       "      <td>none</td>\n",
       "    </tr>\n",
       "  </tbody>\n",
       "</table>\n",
       "</div>"
      ],
      "text/plain": [
       "             Survived  Pclass     Sex   Age  SibSp  Parch     Fare Embarked  \\\n",
       "PassengerId                                                                   \n",
       "1                   0       3    male  22.0      1      0   7.2500        S   \n",
       "2                   1       1  female  38.0      1      0  71.2833        C   \n",
       "3                   1       3  female  26.0      0      0   7.9250        S   \n",
       "4                   1       1  female  35.0      1      0  53.1000        S   \n",
       "5                   0       3    male  35.0      0      0   8.0500        S   \n",
       "\n",
       "             Fsize Title  Deck Ticket2  \n",
       "PassengerId                             \n",
       "1                3    Mr  unkn       A  \n",
       "2                1   Mrs     C      PC  \n",
       "3                3  Miss  unkn   STONO  \n",
       "4                1   Mrs     C    none  \n",
       "5                3    Mr  unkn    none  "
      ]
     },
     "execution_count": 71,
     "metadata": {},
     "output_type": "execute_result"
    }
   ],
   "source": [
    "# feature engineering done\n",
    "train_data.head()"
   ]
  },
  {
   "cell_type": "markdown",
   "metadata": {},
   "source": [
    "### Predicting"
   ]
  },
  {
   "cell_type": "code",
   "execution_count": 73,
   "metadata": {},
   "outputs": [
    {
     "data": {
      "text/html": [
       "<div>\n",
       "<style scoped>\n",
       "    .dataframe tbody tr th:only-of-type {\n",
       "        vertical-align: middle;\n",
       "    }\n",
       "\n",
       "    .dataframe tbody tr th {\n",
       "        vertical-align: top;\n",
       "    }\n",
       "\n",
       "    .dataframe thead th {\n",
       "        text-align: right;\n",
       "    }\n",
       "</style>\n",
       "<table border=\"1\" class=\"dataframe\">\n",
       "  <thead>\n",
       "    <tr style=\"text-align: right;\">\n",
       "      <th></th>\n",
       "      <th>Survived</th>\n",
       "      <th>Pclass</th>\n",
       "      <th>Sex</th>\n",
       "      <th>Age</th>\n",
       "      <th>SibSp</th>\n",
       "      <th>Parch</th>\n",
       "      <th>Fare</th>\n",
       "      <th>Embarked</th>\n",
       "      <th>Fsize</th>\n",
       "      <th>Title</th>\n",
       "      <th>Deck</th>\n",
       "      <th>Ticket2</th>\n",
       "    </tr>\n",
       "    <tr>\n",
       "      <th>PassengerId</th>\n",
       "      <th></th>\n",
       "      <th></th>\n",
       "      <th></th>\n",
       "      <th></th>\n",
       "      <th></th>\n",
       "      <th></th>\n",
       "      <th></th>\n",
       "      <th></th>\n",
       "      <th></th>\n",
       "      <th></th>\n",
       "      <th></th>\n",
       "      <th></th>\n",
       "    </tr>\n",
       "  </thead>\n",
       "  <tbody>\n",
       "    <tr>\n",
       "      <th>1</th>\n",
       "      <td>0</td>\n",
       "      <td>3</td>\n",
       "      <td>1</td>\n",
       "      <td>22.0</td>\n",
       "      <td>1</td>\n",
       "      <td>0</td>\n",
       "      <td>7.2500</td>\n",
       "      <td>2</td>\n",
       "      <td>3</td>\n",
       "      <td>2</td>\n",
       "      <td>8</td>\n",
       "      <td>0</td>\n",
       "    </tr>\n",
       "    <tr>\n",
       "      <th>2</th>\n",
       "      <td>1</td>\n",
       "      <td>1</td>\n",
       "      <td>0</td>\n",
       "      <td>38.0</td>\n",
       "      <td>1</td>\n",
       "      <td>0</td>\n",
       "      <td>71.2833</td>\n",
       "      <td>0</td>\n",
       "      <td>1</td>\n",
       "      <td>3</td>\n",
       "      <td>2</td>\n",
       "      <td>2</td>\n",
       "    </tr>\n",
       "    <tr>\n",
       "      <th>3</th>\n",
       "      <td>1</td>\n",
       "      <td>3</td>\n",
       "      <td>0</td>\n",
       "      <td>26.0</td>\n",
       "      <td>0</td>\n",
       "      <td>0</td>\n",
       "      <td>7.9250</td>\n",
       "      <td>2</td>\n",
       "      <td>3</td>\n",
       "      <td>1</td>\n",
       "      <td>8</td>\n",
       "      <td>4</td>\n",
       "    </tr>\n",
       "    <tr>\n",
       "      <th>4</th>\n",
       "      <td>1</td>\n",
       "      <td>1</td>\n",
       "      <td>0</td>\n",
       "      <td>35.0</td>\n",
       "      <td>1</td>\n",
       "      <td>0</td>\n",
       "      <td>53.1000</td>\n",
       "      <td>2</td>\n",
       "      <td>1</td>\n",
       "      <td>3</td>\n",
       "      <td>2</td>\n",
       "      <td>6</td>\n",
       "    </tr>\n",
       "    <tr>\n",
       "      <th>5</th>\n",
       "      <td>0</td>\n",
       "      <td>3</td>\n",
       "      <td>1</td>\n",
       "      <td>35.0</td>\n",
       "      <td>0</td>\n",
       "      <td>0</td>\n",
       "      <td>8.0500</td>\n",
       "      <td>2</td>\n",
       "      <td>3</td>\n",
       "      <td>2</td>\n",
       "      <td>8</td>\n",
       "      <td>6</td>\n",
       "    </tr>\n",
       "  </tbody>\n",
       "</table>\n",
       "</div>"
      ],
      "text/plain": [
       "             Survived  Pclass  Sex   Age  SibSp  Parch     Fare  Embarked  \\\n",
       "PassengerId                                                                 \n",
       "1                   0       3    1  22.0      1      0   7.2500         2   \n",
       "2                   1       1    0  38.0      1      0  71.2833         0   \n",
       "3                   1       3    0  26.0      0      0   7.9250         2   \n",
       "4                   1       1    0  35.0      1      0  53.1000         2   \n",
       "5                   0       3    1  35.0      0      0   8.0500         2   \n",
       "\n",
       "             Fsize  Title  Deck  Ticket2  \n",
       "PassengerId                               \n",
       "1                3      2     8        0  \n",
       "2                1      3     2        2  \n",
       "3                3      1     8        4  \n",
       "4                1      3     2        6  \n",
       "5                3      2     8        6  "
      ]
     },
     "execution_count": 73,
     "metadata": {},
     "output_type": "execute_result"
    }
   ],
   "source": [
    "# data with columns values encoded\n",
    "train_data_enc = train_data.copy()\n",
    "categorical_columns = ['Sex', 'Embarked', 'Title', 'Deck', 'Ticket2']\n",
    "encoding_dict = dict()\n",
    "for enc_col in categorical_columns:\n",
    "    encoding_dict[enc_col] = preprocessing.LabelEncoder()\n",
    "    encoding_dict[enc_col].fit(list(set(train_data_enc[enc_col].values)))\n",
    "    train_data_enc[enc_col] = encoding_dict[enc_col].transform(train_data_enc[enc_col])\n",
    "train_data_enc.head()"
   ]
  },
  {
   "cell_type": "code",
   "execution_count": 74,
   "metadata": {},
   "outputs": [
    {
     "data": {
      "text/html": [
       "<div>\n",
       "<style scoped>\n",
       "    .dataframe tbody tr th:only-of-type {\n",
       "        vertical-align: middle;\n",
       "    }\n",
       "\n",
       "    .dataframe tbody tr th {\n",
       "        vertical-align: top;\n",
       "    }\n",
       "\n",
       "    .dataframe thead th {\n",
       "        text-align: right;\n",
       "    }\n",
       "</style>\n",
       "<table border=\"1\" class=\"dataframe\">\n",
       "  <thead>\n",
       "    <tr style=\"text-align: right;\">\n",
       "      <th></th>\n",
       "      <th>Survived</th>\n",
       "      <th>Pclass</th>\n",
       "      <th>Age</th>\n",
       "      <th>SibSp</th>\n",
       "      <th>Parch</th>\n",
       "      <th>Fare</th>\n",
       "      <th>Fsize</th>\n",
       "      <th>Sex_female</th>\n",
       "      <th>Embarked_C</th>\n",
       "      <th>Embarked_Q</th>\n",
       "      <th>...</th>\n",
       "      <th>Deck_T</th>\n",
       "      <th>Deck_unkn</th>\n",
       "      <th>Ticket2_A</th>\n",
       "      <th>Ticket2_CA</th>\n",
       "      <th>Ticket2_PC</th>\n",
       "      <th>Ticket2_SOTONOQ</th>\n",
       "      <th>Ticket2_STONO</th>\n",
       "      <th>Ticket2_WC</th>\n",
       "      <th>Ticket2_none</th>\n",
       "      <th>Ticket2_other</th>\n",
       "    </tr>\n",
       "    <tr>\n",
       "      <th>PassengerId</th>\n",
       "      <th></th>\n",
       "      <th></th>\n",
       "      <th></th>\n",
       "      <th></th>\n",
       "      <th></th>\n",
       "      <th></th>\n",
       "      <th></th>\n",
       "      <th></th>\n",
       "      <th></th>\n",
       "      <th></th>\n",
       "      <th></th>\n",
       "      <th></th>\n",
       "      <th></th>\n",
       "      <th></th>\n",
       "      <th></th>\n",
       "      <th></th>\n",
       "      <th></th>\n",
       "      <th></th>\n",
       "      <th></th>\n",
       "      <th></th>\n",
       "      <th></th>\n",
       "    </tr>\n",
       "  </thead>\n",
       "  <tbody>\n",
       "    <tr>\n",
       "      <th>1</th>\n",
       "      <td>0</td>\n",
       "      <td>3</td>\n",
       "      <td>22.0</td>\n",
       "      <td>1</td>\n",
       "      <td>0</td>\n",
       "      <td>7.2500</td>\n",
       "      <td>3</td>\n",
       "      <td>0</td>\n",
       "      <td>0</td>\n",
       "      <td>0</td>\n",
       "      <td>...</td>\n",
       "      <td>0</td>\n",
       "      <td>1</td>\n",
       "      <td>1</td>\n",
       "      <td>0</td>\n",
       "      <td>0</td>\n",
       "      <td>0</td>\n",
       "      <td>0</td>\n",
       "      <td>0</td>\n",
       "      <td>0</td>\n",
       "      <td>0</td>\n",
       "    </tr>\n",
       "    <tr>\n",
       "      <th>2</th>\n",
       "      <td>1</td>\n",
       "      <td>1</td>\n",
       "      <td>38.0</td>\n",
       "      <td>1</td>\n",
       "      <td>0</td>\n",
       "      <td>71.2833</td>\n",
       "      <td>1</td>\n",
       "      <td>1</td>\n",
       "      <td>1</td>\n",
       "      <td>0</td>\n",
       "      <td>...</td>\n",
       "      <td>0</td>\n",
       "      <td>0</td>\n",
       "      <td>0</td>\n",
       "      <td>0</td>\n",
       "      <td>1</td>\n",
       "      <td>0</td>\n",
       "      <td>0</td>\n",
       "      <td>0</td>\n",
       "      <td>0</td>\n",
       "      <td>0</td>\n",
       "    </tr>\n",
       "    <tr>\n",
       "      <th>3</th>\n",
       "      <td>1</td>\n",
       "      <td>3</td>\n",
       "      <td>26.0</td>\n",
       "      <td>0</td>\n",
       "      <td>0</td>\n",
       "      <td>7.9250</td>\n",
       "      <td>3</td>\n",
       "      <td>1</td>\n",
       "      <td>0</td>\n",
       "      <td>0</td>\n",
       "      <td>...</td>\n",
       "      <td>0</td>\n",
       "      <td>1</td>\n",
       "      <td>0</td>\n",
       "      <td>0</td>\n",
       "      <td>0</td>\n",
       "      <td>0</td>\n",
       "      <td>1</td>\n",
       "      <td>0</td>\n",
       "      <td>0</td>\n",
       "      <td>0</td>\n",
       "    </tr>\n",
       "    <tr>\n",
       "      <th>4</th>\n",
       "      <td>1</td>\n",
       "      <td>1</td>\n",
       "      <td>35.0</td>\n",
       "      <td>1</td>\n",
       "      <td>0</td>\n",
       "      <td>53.1000</td>\n",
       "      <td>1</td>\n",
       "      <td>1</td>\n",
       "      <td>0</td>\n",
       "      <td>0</td>\n",
       "      <td>...</td>\n",
       "      <td>0</td>\n",
       "      <td>0</td>\n",
       "      <td>0</td>\n",
       "      <td>0</td>\n",
       "      <td>0</td>\n",
       "      <td>0</td>\n",
       "      <td>0</td>\n",
       "      <td>0</td>\n",
       "      <td>1</td>\n",
       "      <td>0</td>\n",
       "    </tr>\n",
       "    <tr>\n",
       "      <th>5</th>\n",
       "      <td>0</td>\n",
       "      <td>3</td>\n",
       "      <td>35.0</td>\n",
       "      <td>0</td>\n",
       "      <td>0</td>\n",
       "      <td>8.0500</td>\n",
       "      <td>3</td>\n",
       "      <td>0</td>\n",
       "      <td>0</td>\n",
       "      <td>0</td>\n",
       "      <td>...</td>\n",
       "      <td>0</td>\n",
       "      <td>1</td>\n",
       "      <td>0</td>\n",
       "      <td>0</td>\n",
       "      <td>0</td>\n",
       "      <td>0</td>\n",
       "      <td>0</td>\n",
       "      <td>0</td>\n",
       "      <td>1</td>\n",
       "      <td>0</td>\n",
       "    </tr>\n",
       "  </tbody>\n",
       "</table>\n",
       "<p>5 rows × 32 columns</p>\n",
       "</div>"
      ],
      "text/plain": [
       "             Survived  Pclass   Age  SibSp  Parch     Fare  Fsize  Sex_female  \\\n",
       "PassengerId                                                                     \n",
       "1                   0       3  22.0      1      0   7.2500      3           0   \n",
       "2                   1       1  38.0      1      0  71.2833      1           1   \n",
       "3                   1       3  26.0      0      0   7.9250      3           1   \n",
       "4                   1       1  35.0      1      0  53.1000      1           1   \n",
       "5                   0       3  35.0      0      0   8.0500      3           0   \n",
       "\n",
       "             Embarked_C  Embarked_Q      ...        Deck_T  Deck_unkn  \\\n",
       "PassengerId                              ...                            \n",
       "1                     0           0      ...             0          1   \n",
       "2                     1           0      ...             0          0   \n",
       "3                     0           0      ...             0          1   \n",
       "4                     0           0      ...             0          0   \n",
       "5                     0           0      ...             0          1   \n",
       "\n",
       "             Ticket2_A  Ticket2_CA  Ticket2_PC  Ticket2_SOTONOQ  \\\n",
       "PassengerId                                                       \n",
       "1                    1           0           0                0   \n",
       "2                    0           0           1                0   \n",
       "3                    0           0           0                0   \n",
       "4                    0           0           0                0   \n",
       "5                    0           0           0                0   \n",
       "\n",
       "             Ticket2_STONO  Ticket2_WC  Ticket2_none  Ticket2_other  \n",
       "PassengerId                                                          \n",
       "1                        0           0             0              0  \n",
       "2                        0           0             0              0  \n",
       "3                        1           0             0              0  \n",
       "4                        0           0             1              0  \n",
       "5                        0           0             1              0  \n",
       "\n",
       "[5 rows x 32 columns]"
      ]
     },
     "execution_count": 74,
     "metadata": {},
     "output_type": "execute_result"
    }
   ],
   "source": [
    "# data with columns values tunt into dummy\n",
    "train_data_dum = train_data.copy()\n",
    "categorical_columns = ['Sex', 'Embarked', 'Title', 'Deck', 'Ticket2']\n",
    "for cat_col in categorical_columns:\n",
    "    train_data_dum = turn_factors_2_columns(train_data_dum, cat_col)  # cinse is a regression this is the MO\n",
    "train_data_dum.drop('Sex_male', axis=1, inplace=True)  # binary variable -> no need for 2 columns\n",
    "train_data_dum.head()"
   ]
  },
  {
   "cell_type": "markdown",
   "metadata": {},
   "source": [
    "#### Approaches"
   ]
  },
  {
   "cell_type": "code",
   "execution_count": 268,
   "metadata": {},
   "outputs": [
    {
     "name": "stdout",
     "output_type": "stream",
     "text": [
      "0.72515406162465 0.01796774120820267\n"
     ]
    }
   ],
   "source": [
    "# Support Vector Machines\n",
    "from sklearn import svm\n",
    "[xs, ys] = separate_xy(train_data_dum, y_col='Survived')\n",
    "this_scores = []\n",
    "for i in range(25):\n",
    "    X_train, X_test, y_train, y_test = train_test_split(xs, ys.reshape(len(ys)), test_size=0.4)\n",
    "    clf = svm.SVC(gamma='auto').fit(X=X_train, y=y_train)\n",
    "    this_scores.append(clf.score(X=X_test, y=y_test))\n",
    "print(np.mean(this_scores), np.std(this_scores))\n",
    "# enc 0.6906410256410257 0.03319894012233747\n",
    "# dum 0.723076923076923 0.021605512238913733"
   ]
  },
  {
   "cell_type": "code",
   "execution_count": 269,
   "metadata": {},
   "outputs": [
    {
     "name": "stdout",
     "output_type": "stream",
     "text": [
      "0.7175350140056023 0.08346654606957171\n"
     ]
    }
   ],
   "source": [
    "# Stochastic Gradient Descent\n",
    "from sklearn import linear_model\n",
    "[xs, ys] = separate_xy(train_data_dum, y_col='Survived')\n",
    "this_scores = []\n",
    "for i in range(25):\n",
    "    X_train, X_test, y_train, y_test = train_test_split(xs, ys.reshape(len(ys)), test_size=0.4)\n",
    "    clf = linear_model.SGDClassifier(max_iter=1000).fit(X=X_train, y=y_train)\n",
    "    this_scores.append(clf.score(X=X_test, y=y_test))\n",
    "print(np.mean(this_scores), np.std(this_scores))\n",
    "# * can vary ramdomly todo: why\n",
    "# enc 0.7475641025641027 0.047081838746765865\n",
    "# dum 0.7642307692307694 0.05371687778138154"
   ]
  },
  {
   "cell_type": "code",
   "execution_count": 271,
   "metadata": {},
   "outputs": [
    {
     "name": "stdout",
     "output_type": "stream",
     "text": [
      "0.7170868347338937 0.019455188071916346\n"
     ]
    }
   ],
   "source": [
    "# Nearest Neighbors Classification\n",
    "from sklearn.neighbors import KNeighborsClassifier\n",
    "[xs, ys] = separate_xy(train_data_dum, y_col='Survived')\n",
    "this_scores = []\n",
    "for i in range(25):\n",
    "    X_train, X_test, y_train, y_test = train_test_split(xs, ys.reshape(len(ys)), test_size=0.4)\n",
    "    neigh = KNeighborsClassifier().fit(X=X_train, y=y_train)\n",
    "    this_scores.append(neigh.score(X=X_test, y=y_test))\n",
    "print(np.mean(this_scores), np.std(this_scores))\n",
    "# enc 0.7097435897435898 0.01530642523639738\n",
    "# dum 0.7208974358974359 0.016909473942356465"
   ]
  },
  {
   "cell_type": "code",
   "execution_count": 272,
   "metadata": {},
   "outputs": [
    {
     "name": "stdout",
     "output_type": "stream",
     "text": [
      "0.6666666666666667 0.023475996459111442\n"
     ]
    }
   ],
   "source": [
    "# Nearest Centroid Classifier\n",
    "from sklearn.neighbors.nearest_centroid import NearestCentroid\n",
    "[xs, ys] = separate_xy(train_data_enc, y_col='Survived')\n",
    "this_scores = []\n",
    "for i in range(25):\n",
    "    X_train, X_test, y_train, y_test = train_test_split(xs, ys.reshape(len(ys)), test_size=0.4)\n",
    "    clf = NearestCentroid().fit(X=X_train, y=y_train)\n",
    "    this_scores.append(clf.score(X=X_test, y=y_test))\n",
    "print(np.mean(this_scores), np.std(this_scores))\n",
    "# todo: why is it equal\n",
    "# enc 0.6769230769230767 0.018243909577894502\n",
    "# dum 0.6641025641025641 0.024826816321842412"
   ]
  },
  {
   "cell_type": "code",
   "execution_count": 273,
   "metadata": {},
   "outputs": [
    {
     "name": "stdout",
     "output_type": "stream",
     "text": [
      "0.7104761904761905 0.021360338814193785\n"
     ]
    }
   ],
   "source": [
    "# Gaussian Process Classification (GPC)\n",
    "from sklearn.gaussian_process import GaussianProcessClassifier\n",
    "[xs, ys] = separate_xy(train_data_dum, y_col='Survived')\n",
    "this_scores = []\n",
    "for i in range(25):\n",
    "    X_train, X_test, y_train, y_test = train_test_split(xs, ys.reshape(len(ys)), test_size=0.4)\n",
    "    gpc = GaussianProcessClassifier().fit(X=X_train, y=y_train)\n",
    "    this_scores.append(gpc.score(X=X_test, y=y_test))\n",
    "print(np.mean(this_scores), np.std(this_scores))\n",
    "# enc 0.7020512820512821 0.017659761964319443\n",
    "# dum 0.7078205128205127 0.02478838777150144"
   ]
  },
  {
   "cell_type": "code",
   "execution_count": 274,
   "metadata": {},
   "outputs": [
    {
     "name": "stdout",
     "output_type": "stream",
     "text": [
      "0.8016806722689076 0.02199905200680321\n"
     ]
    }
   ],
   "source": [
    "# Decision Trees\n",
    "from sklearn.tree import DecisionTreeClassifier\n",
    "[xs, ys] = separate_xy(train_data_enc, y_col='Survived')\n",
    "this_scores = []\n",
    "for i in range(25):\n",
    "    X_train, X_test, y_train, y_test = train_test_split(xs, ys.reshape(len(ys)), test_size=0.4)\n",
    "    clf = DecisionTreeClassifier(max_depth=6).fit(X=X_train, y=y_train)\n",
    "    this_scores.append(clf.score(X=X_test, y=y_test))\n",
    "print(np.mean(this_scores), np.std(this_scores))\n",
    "# enc 0.8023076923076923 0.01821505688085856\n",
    "# dum 0.7979487179487179 0.021728405438338858"
   ]
  },
  {
   "cell_type": "code",
   "execution_count": 275,
   "metadata": {},
   "outputs": [
    {
     "name": "stdout",
     "output_type": "stream",
     "text": [
      "0.8123249299719889 0.014737194888477221\n"
     ]
    }
   ],
   "source": [
    "# Logistic Regression\n",
    "from sklearn.linear_model import LogisticRegression\n",
    "[xs, ys] = separate_xy(train_data_dum, y_col='Survived')\n",
    "this_scores = []\n",
    "for i in range(25):\n",
    "    X_train, X_test, y_train, y_test = train_test_split(xs, ys.reshape(len(ys)), test_size=0.4)\n",
    "    clf = LogisticRegression(solver='liblinear').fit(X=X_train, y=y_train)\n",
    "    this_scores.append(clf.score(X=X_test, y=y_test))\n",
    "print(np.mean(this_scores), np.std(this_scores))\n",
    "# enc 0.7975641025641026 0.021001393147489927\n",
    "# dum 0.8188461538461539 0.016471240850279883"
   ]
  },
  {
   "cell_type": "code",
   "execution_count": 225,
   "metadata": {},
   "outputs": [
    {
     "name": "stdout",
     "output_type": "stream",
     "text": [
      "0.8232051282051281 0.01719287652742585\n"
     ]
    }
   ],
   "source": [
    "# Gradient Tree Boosting\n",
    "from sklearn.ensemble import GradientBoostingClassifier\n",
    "[xs, ys] = separate_xy(train_data_dum, y_col='Survived')\n",
    "this_scores = []\n",
    "for i in range(25):\n",
    "    X_train, X_test, y_train, y_test = train_test_split(xs, ys.reshape(len(ys)), test_size=0.35)\n",
    "    clf = GradientBoostingClassifier(max_depth=3).fit(X=X_train, y=y_train)\n",
    "    this_scores.append(clf.score(X=X_test, y=y_test))\n",
    "print(np.mean(this_scores), np.std(this_scores))\n",
    "# enc 0.8232051282051281 0.01719287652742585\n",
    "# dum 0.8238461538461539 0.019262367203164824\n",
    "# all data: 0.898989898989899"
   ]
  },
  {
   "cell_type": "code",
   "execution_count": 276,
   "metadata": {},
   "outputs": [
    {
     "name": "stderr",
     "output_type": "stream",
     "text": [
      "/home/tsk/.virtualenvs/jupyter/lib/python3.6/site-packages/sklearn/neural_network/multilayer_perceptron.py:562: ConvergenceWarning: Stochastic Optimizer: Maximum iterations (1500) reached and the optimization hasn't converged yet.\n",
      "  % self.max_iter, ConvergenceWarning)\n"
     ]
    },
    {
     "name": "stdout",
     "output_type": "stream",
     "text": [
      "0.8057142857142858 0.019501592879812152\n"
     ]
    }
   ],
   "source": [
    "# Multi-layer Perceptron\n",
    "from sklearn.neural_network import MLPClassifier\n",
    "[xs, ys] = separate_xy(train_data_dum, y_col='Survived')\n",
    "this_scores = []\n",
    "for i in range(25):\n",
    "    X_train, X_test, y_train, y_test = train_test_split(xs, ys.reshape(len(ys)), test_size=0.4)\n",
    "    clf = MLPClassifier(hidden_layer_sizes=(len(xs[0])-2, ), max_iter=1500).fit(X=X_train, y=y_train)\n",
    "    this_scores.append(clf.score(X=X_test, y=y_test))\n",
    "print(np.mean(this_scores), np.std(this_scores))\n",
    "# varies randomly\n",
    "# enc 0.7874358974358975 0.025939290879057383\n",
    "# dum 0.8064102564102563 0.022334937679723513"
   ]
  },
  {
   "cell_type": "markdown",
   "metadata": {},
   "source": [
    "#### Going deepish in some options"
   ]
  },
  {
   "cell_type": "code",
   "execution_count": 245,
   "metadata": {},
   "outputs": [],
   "source": [
    "# finding parameter\n",
    "from sklearn.ensemble import GradientBoostingClassifier\n",
    "[xs, ys] = separate_xy(train_data_dum, y_col='Survived')\n",
    "test_db = []\n",
    "for it in range(1,13):\n",
    "    this_scores = []\n",
    "    for i in range(25):\n",
    "        X_train, X_test, y_train, y_test = train_test_split(xs, ys.reshape(len(ys)), test_size=0.35)\n",
    "        clf = GradientBoostingClassifier(max_depth=7).fit(X=X_train, y=y_train)\n",
    "        this_scores.append(clf.score(X=X_test, y=y_test))\n",
    "    test_db.append({'depth':it, 'mean':np.mean(this_scores), 'std':np.std(this_scores)})"
   ]
  },
  {
   "cell_type": "code",
   "execution_count": 265,
   "metadata": {},
   "outputs": [
    {
     "data": {
      "image/png": "[encoded data removed]",
      "text/plain": [
       "<Figure size 432x288 with 1 Axes>"
      ]
     },
     "metadata": {
      "needs_background": "light"
     },
     "output_type": "display_data"
    }
   ],
   "source": [
    "test_df = pd.DataFrame(test_db)\n",
    "ax = sns.lineplot(x='depth', y='mean', data=test_df)\n",
    "# ax.errorbar(test_df['depth'], test_df['mean'], yerr=test_df['std'], fmt='-o') #fmt=None to plot bars only\n",
    "plt.fill_between(test_df['depth'], test_df['mean']-test_df['std'], test_df['mean']+test_df['std'])\n",
    "plt.show()"
   ]
  },
  {
   "cell_type": "code",
   "execution_count": 279,
   "metadata": {},
   "outputs": [
    {
     "name": "stdout",
     "output_type": "stream",
     "text": [
      "0.9629629629629629\n"
     ]
    }
   ],
   "source": [
    "# winner?\n",
    "# Gradient Tree Boosting\n",
    "from sklearn.ensemble import GradientBoostingClassifier\n",
    "test_data_dum = test_data.copy()\n",
    "categorical_columns = ['Sex', 'Embarked', 'Title', 'Deck', 'Ticket2']\n",
    "for cat_col in categorical_columns:\n",
    "    test_data_dum = turn_factors_2_columns(test_data_dum, cat_col)\n",
    "test_data_dum.drop('Sex_male', axis=1, inplace=True)\n",
    "[xs, ys] = separate_xy(train_data_dum, y_col='Survived')\n",
    "clf = GradientBoostingClassifier(max_depth=5).fit(X=xs, y=ys.reshape(len(ys)))\n",
    "print(clf.score(X=xs, y=ys.reshape(len(ys))))\n",
    "test_data_dum['Survived'] = None\n",
    "[xs_t, ys_t] = separate_xy(test_data_dum, y_col='Survived')\n",
    "test_labels = clf.predict(xs_t)"
   ]
  },
  {
   "cell_type": "markdown",
   "metadata": {},
   "source": [
    "#### second best?"
   ]
  },
  {
   "cell_type": "code",
   "execution_count": 277,
   "metadata": {},
   "outputs": [
    {
     "name": "stdout",
     "output_type": "stream",
     "text": [
      "0.8327721661054994\n"
     ]
    }
   ],
   "source": [
    "from sklearn.linear_model import LogisticRegression\n",
    "test_data_dum = test_data.copy()\n",
    "categorical_columns = ['Sex', 'Embarked', 'Title', 'Deck', 'Ticket2']\n",
    "for cat_col in categorical_columns:\n",
    "    test_data_dum = turn_factors_2_columns(test_data_dum, cat_col)\n",
    "test_data_dum.drop('Sex_male', axis=1, inplace=True)\n",
    "[xs, ys] = separate_xy(train_data_dum, y_col='Survived')\n",
    "clf = LogisticRegression(solver='liblinear').fit(X=xs, y=ys.reshape(len(ys)))\n",
    "print(clf.score(X=xs, y=ys.reshape(len(ys))))\n",
    "test_data_dum['Survived'] = None\n",
    "[xs_t, ys_t] = separate_xy(test_data_dum, y_col='Survived')\n",
    "test_labels = clf.predict(xs_t)"
   ]
  },
  {
   "cell_type": "markdown",
   "metadata": {},
   "source": [
    "#### Saving result for submission"
   ]
  },
  {
   "cell_type": "code",
   "execution_count": 278,
   "metadata": {},
   "outputs": [],
   "source": [
    "# saving prediction in kaggle format\n",
    "competition_nickname = 'titanic'\n",
    "model_tryout_name = 'sklogisticliblinear'\n",
    "# test_labels = decision_tree.predict(test_data)\n",
    "pred2_list = test_labels.reshape(len(test_labels))\n",
    "predicted2 = [random.randint(0,1) if pd.isnull(x) else int(x > 0.5) for x in pred2_list]\n",
    "results_submission = pd.DataFrame({\n",
    "                                'PassengerId': test_data_dum.index,\n",
    "                                'Survived': predicted2\n",
    "                            })\n",
    "now = datetime.datetime.now().strftime('%Y%m%d%H%M%S')\n",
    "results_submission.to_csv('submissions/kaggle_{}_submission_{}_{}.csv'.format(competition_nickname, model_tryout_name, now), index=False)"
   ]
  }
 ],
 "metadata": {
  "kernelspec": {
   "display_name": "Python 3",
   "language": "python",
   "name": "python3"
  },
  "language_info": {
   "codemirror_mode": {
    "name": "ipython",
    "version": 3
   },
   "file_extension": ".py",
   "mimetype": "text/x-python",
   "name": "python",
   "nbconvert_exporter": "python",
   "pygments_lexer": "ipython3",
   "version": "3.6.6"
  }
 },
 "nbformat": 4,
 "nbformat_minor": 2
}
